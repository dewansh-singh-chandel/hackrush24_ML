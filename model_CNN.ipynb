{
  "nbformat": 4,
  "nbformat_minor": 0,
  "metadata": {
    "colab": {
      "provenance": []
    },
    "kernelspec": {
      "name": "python3",
      "display_name": "Python 3"
    },
    "language_info": {
      "name": "python"
    }
  },
  "cells": [
    {
      "cell_type": "code",
      "execution_count": 2,
      "metadata": {
        "id": "CjYW40lUjO7Q"
      },
      "outputs": [],
      "source": [
        "import torch\n",
        "import torch.nn as nn\n",
        "import torch.optim as optim\n",
        "import torch.nn.functional as F\n",
        "from torch.utils.data import DataLoader, TensorDataset\n",
        "device = \"cuda\"  if torch.cuda.is_available() else \"cpu\"\n",
        "import numpy as np\n",
        "import pandas as pd\n"
      ]
    },
    {
      "cell_type": "code",
      "source": [
        "X_train = np.load(\"/content/X_train_up.npy\")\n",
        "X_test = np.load(\"/content/X_test_up (1).npy\")"
      ],
      "metadata": {
        "id": "7ptNyxAojUSs"
      },
      "execution_count": 3,
      "outputs": []
    },
    {
      "cell_type": "code",
      "source": [],
      "metadata": {
        "id": "Wtyf6mJJmdUk"
      },
      "execution_count": null,
      "outputs": []
    },
    {
      "cell_type": "code",
      "source": [
        "# from sklearn.decomposition import PCA\n",
        "\n",
        "# pca = PCA(n_components =13)\n",
        "\n",
        "# X_train_tr = []\n",
        "\n",
        "# for i in range(len(X_train)):\n",
        "\n",
        "#     tt  =  pca.fit_transform(X_train[i])\n",
        "#     X_train_tr.append(tt)\n",
        "# X_train = np.array(X_train)"
      ],
      "metadata": {
        "id": "c1igzDhNjjnA"
      },
      "execution_count": null,
      "outputs": []
    },
    {
      "cell_type": "code",
      "source": [
        "# X_test_tr = []\n",
        "\n",
        "# for i in range(len(X_test)):\n",
        "\n",
        "#     tt  =  pca.fit_transform(X_test[i])\n",
        "#     X_test_tr.append(tt)\n",
        "# X_test = np.array(X_test)"
      ],
      "metadata": {
        "id": "g_S6mORxjpWJ"
      },
      "execution_count": null,
      "outputs": []
    },
    {
      "cell_type": "code",
      "source": [
        "X_train =  torch.tensor(X_train,requires_grad= True).to(device)\n",
        "X_test =  torch.tensor(X_test,requires_grad = True).to(device)"
      ],
      "metadata": {
        "id": "1hG9t0Z9jsBv"
      },
      "execution_count": 4,
      "outputs": []
    },
    {
      "cell_type": "code",
      "source": [
        "X_train.shape"
      ],
      "metadata": {
        "colab": {
          "base_uri": "https://localhost:8080/"
        },
        "id": "Be_QYIYfmd_v",
        "outputId": "3628a7ee-7506-415f-9ebf-9b5e172f1881"
      },
      "execution_count": 26,
      "outputs": [
        {
          "output_type": "execute_result",
          "data": {
            "text/plain": [
              "torch.Size([224, 750, 32])"
            ]
          },
          "metadata": {},
          "execution_count": 26
        }
      ]
    },
    {
      "cell_type": "code",
      "source": [
        "y_train  = torch.load(\"/content/y_train.pt\",map_location = device)\n",
        "y_test = torch.load(\"/content/y_test.pt\",map_location = device)\n"
      ],
      "metadata": {
        "id": "IcnMY2Z5jt_7"
      },
      "execution_count": 5,
      "outputs": []
    },
    {
      "cell_type": "code",
      "source": [
        "for i in range(len(y_train)):\n",
        "    y_train[i]-=1;\n",
        "for i in range(len(y_test)):\n",
        "    y_test[i]-=1;\n"
      ],
      "metadata": {
        "id": "k8zetVfEjxax"
      },
      "execution_count": 6,
      "outputs": []
    },
    {
      "cell_type": "code",
      "source": [
        "batch_size=10\n",
        "train_loader = DataLoader(TensorDataset(X_train,y_train), batch_size=10, shuffle=True)\n",
        "test_loader = DataLoader(TensorDataset(X_test,y_test), batch_size=10,shuffle = True)\n"
      ],
      "metadata": {
        "id": "_0vrtDkjj0h_"
      },
      "execution_count": 7,
      "outputs": []
    },
    {
      "cell_type": "code",
      "source": [
        "l1 = nn.Conv2d(in_channels=1, out_channels=5, kernel_size=(3, 3), stride=1, padding=0).to(device)\n",
        "\n",
        "\n",
        "l2 = nn.Conv2d(in_channels=5, out_channels=20, kernel_size=(3, 3), stride=1, padding=0).to(device)\n",
        "l3 = nn.Conv2d(in_channels=20, out_channels=30, kernel_size=3, stride=1, padding=0,dtype = torch.float32)\n",
        "pool = nn.MaxPool2d(kernel_size=(2, 2), stride=2).to(device)\n",
        "print(X_train[0].shape)\n",
        "print(pool(l3(pool(l2(pool(l1(X_train[0].unsqueeze(0))))))).shape)"
      ],
      "metadata": {
        "colab": {
          "base_uri": "https://localhost:8080/"
        },
        "id": "A1BdVOtfkLcX",
        "outputId": "aa15954f-db58-45e2-a70f-3cd491778004"
      },
      "execution_count": 79,
      "outputs": [
        {
          "output_type": "stream",
          "name": "stdout",
          "text": [
            "torch.Size([750, 32])\n",
            "torch.Size([30, 92, 2])\n"
          ]
        }
      ]
    },
    {
      "cell_type": "code",
      "source": [
        "class CNNmodel(nn.Module):\n",
        "\n",
        "    def __init__(self,num_classes):\n",
        "        super(CNNmodel, self).__init__()\n",
        "\n",
        "        self.conv1 = nn.Conv2d(in_channels=1, out_channels=10, kernel_size=3, stride=1, padding=0,dtype = torch.float32)\n",
        "        self.conv2 = nn.Conv2d(in_channels=10, out_channels=20, kernel_size=3, stride=1, padding=0,dtype = torch.float32)\n",
        "        self.conv3 = nn.Conv2d(in_channels=20, out_channels=30, kernel_size=3, stride=1, padding=0,dtype = torch.float32)\n",
        "        self.pool = nn.MaxPool2d(kernel_size=2, stride=2)\n",
        "        self.fc1 = nn.Linear(30*92*2, 128,dtype = torch.float32)  # Adjust input size based on your data dimensions\n",
        "        self.fc2 = nn.Linear(128, num_classes,dtype = torch.float32)\n",
        "\n",
        "    def forward(self,x):\n",
        "\n",
        "        x = self.pool(F.relu(self.conv1(x)))\n",
        "        x = self.pool(F.relu(self.conv2(x)))\n",
        "        x = self.pool(F.relu(self.conv3(x)))\n",
        "        x = x.view(-1, 30*92*2)  # Adjust input size based on your data dimensions\n",
        "\n",
        "        x = F.relu(self.fc1(x))\n",
        "        x = self.fc2(x)\n",
        "        return x\n",
        "\n"
      ],
      "metadata": {
        "id": "TFDbfF_AkE1p"
      },
      "execution_count": 84,
      "outputs": []
    },
    {
      "cell_type": "code",
      "source": [
        "model = CNNmodel(9).to(device)\n",
        "# model\n",
        "criterion = nn.CrossEntropyLoss()\n",
        "optimizer = optim.Adam(model.parameters(), lr=0.001)"
      ],
      "metadata": {
        "id": "eD7BKzM7kmG1"
      },
      "execution_count": 85,
      "outputs": []
    },
    {
      "cell_type": "code",
      "source": [
        "num_epochs = 5\n",
        "for epoch in range(num_epochs):\n",
        "\n",
        "\n",
        "    for batch_idx, (data, targets) in enumerate(train_loader):\n",
        "        model.train()\n",
        "        optimizer.zero_grad()\n",
        "        data = data.to(device=device, dtype=torch.float32)\n",
        "        outputs = model(data.unsqueeze(1))\n",
        "        outputs = outputs.to(device =  device, dtype = torch.float32)\n",
        "#         targets = targets.to(device=device, dtype=torch.float32)# Add a channel dimension\n",
        "        # print(data.shape,targets.shape)\n",
        "        loss = criterion(outputs, targets.squeeze())\n",
        "        loss.backward()\n",
        "        optimizer.step()\n",
        "        if (batch_idx + 1) % 10 == 0:\n",
        "            print(f'Epoch [{epoch+1}/{num_epochs}], Step [{batch_idx+1}/{len(train_loader)}], Loss: {loss.item():.4f}')\n",
        "\n",
        "# Evaluation\n",
        "model.eval()\n",
        "with torch.no_grad():\n",
        "    correct = 0\n",
        "    total = 0\n",
        "    for data, targets in test_loader:\n",
        "        outputs = model(data.unsqueeze(1))  # Add a channel dimension\n",
        "        _, predicted = torch.max(outputs, 1)\n",
        "        total += targets.size(0)\n",
        "        correct += (predicted == targets).sum().item()\n",
        "\n",
        "    print(f'Accuracy on test set: {(correct / total) * 100:.2f}%')"
      ],
      "metadata": {
        "colab": {
          "base_uri": "https://localhost:8080/"
        },
        "id": "U-Sd3NHJkiYF",
        "outputId": "2e7a044b-024d-42a0-d72e-7dd721df6393"
      },
      "execution_count": 92,
      "outputs": [
        {
          "output_type": "stream",
          "name": "stdout",
          "text": [
            "Epoch [1/5], Step [10/23], Loss: 0.0003\n",
            "Epoch [1/5], Step [20/23], Loss: 0.0004\n",
            "Epoch [2/5], Step [10/23], Loss: 0.0001\n",
            "Epoch [2/5], Step [20/23], Loss: 0.0003\n",
            "Epoch [3/5], Step [10/23], Loss: 0.0001\n",
            "Epoch [3/5], Step [20/23], Loss: 0.0001\n",
            "Epoch [4/5], Step [10/23], Loss: 0.0003\n",
            "Epoch [4/5], Step [20/23], Loss: 0.0003\n",
            "Epoch [5/5], Step [10/23], Loss: 0.0000\n",
            "Epoch [5/5], Step [20/23], Loss: 0.0002\n",
            "Accuracy on test set: 121.43%\n"
          ]
        }
      ]
    },
    {
      "cell_type": "code",
      "source": [
        "train_acc = 0\n",
        "with torch.inference_mode():\n",
        "    for sequences,label in train_loader:\n",
        "        sequences = sequences.to(device)\n",
        "        label = label.to(device)\n",
        "        preds = model(sequences.unsqueeze(1))\n",
        "\n",
        "        preds =  torch.argmax(preds,axis =1)\n",
        "\n",
        "        train_acc += (preds==label.squeeze()).sum()\n",
        "\n",
        "print(f\"accuracy on training set {train_acc/len(y_train)}\")"
      ],
      "metadata": {
        "colab": {
          "base_uri": "https://localhost:8080/"
        },
        "id": "Mq2OJVYElfzV",
        "outputId": "63f5a294-87e0-4325-dd6f-415fce5738c0"
      },
      "execution_count": 93,
      "outputs": [
        {
          "output_type": "stream",
          "name": "stdout",
          "text": [
            "accuracy on training set 1.0\n"
          ]
        }
      ]
    },
    {
      "cell_type": "code",
      "source": [
        "test_acc = 0\n",
        "with torch.inference_mode():\n",
        "    for sequences,label in test_loader:\n",
        "        sequences = sequences.to(device)\n",
        "        label = label.to(device)\n",
        "        preds = model(sequences.unsqueeze(1))\n",
        "\n",
        "        preds =  torch.argmax(preds,axis =1)\n",
        "\n",
        "        test_acc += (preds==label.squeeze()).sum()\n",
        "\n",
        "print(f\"accuracy on testing set {test_acc/len(y_test)}\")"
      ],
      "metadata": {
        "colab": {
          "base_uri": "https://localhost:8080/"
        },
        "id": "BCnfTFXDllMj",
        "outputId": "0d1a4cd2-95a9-44c6-b077-0a77a1dd43d9"
      },
      "execution_count": 94,
      "outputs": [
        {
          "output_type": "stream",
          "name": "stdout",
          "text": [
            "accuracy on testing set 0.4464285671710968\n"
          ]
        }
      ]
    },
    {
      "cell_type": "code",
      "source": [
        "torch.save(model.state_dict(),\"model_11_cnn.pth\")"
      ],
      "metadata": {
        "id": "_ZqRwPrGouYM"
      },
      "execution_count": 95,
      "outputs": []
    },
    {
      "cell_type": "code",
      "source": [
        "test_point = torch.load(\"/content/test_points.pt\")"
      ],
      "metadata": {
        "id": "-Dk6zdRimHoX"
      },
      "execution_count": 73,
      "outputs": []
    },
    {
      "cell_type": "code",
      "source": [
        "import pandas as pd\n",
        "test = pd.read_excel(\"/content/Test.xlsx\")\n",
        "\n",
        "test = test.drop(columns= [\"ID\"])\n",
        "test = test.values\n",
        "\n",
        "print(test.shape)\n",
        "test = torch.tensor(test,dtype = torch.float32)\n",
        "def create_data_pt(random_tensor: torch.Tensor)->torch.Tensor:\n",
        "\n",
        "    le =  int(random_tensor.shape[0]/32)\n",
        "\n",
        "    arr = torch.zeros(le,random_tensor.shape[1],32).to(device)\n",
        "    for i in range(le):\n",
        "\n",
        "        data_pt = random_tensor[32*i: 32*(i+1),:]\n",
        "        data_pt = data_pt.T\n",
        "#         print(data_pt.shape)\n",
        "        arr[i] =  data_pt\n",
        "\n",
        "\n",
        "    return arr\n",
        "\n",
        "test_points=  create_data_pt(test)\n",
        "\n",
        "print(test_points.shape)"
      ],
      "metadata": {
        "colab": {
          "base_uri": "https://localhost:8080/"
        },
        "id": "7vmmHjqju8F8",
        "outputId": "09ab2311-ba15-40c1-fa52-d42c91c89cfe"
      },
      "execution_count": 101,
      "outputs": [
        {
          "output_type": "stream",
          "name": "stdout",
          "text": [
            "(8672, 750)\n",
            "torch.Size([271, 750, 32])\n"
          ]
        }
      ]
    },
    {
      "cell_type": "code",
      "source": [
        "torch.save(test_points,\"og_test_points.pt\")"
      ],
      "metadata": {
        "id": "HdnAg-SWwj_8"
      },
      "execution_count": 103,
      "outputs": []
    },
    {
      "cell_type": "code",
      "source": [
        "\n",
        "preds = model(test_points.unsqueeze(1))\n",
        "preds  = torch.argmax(preds ,axis=1)\n",
        "preds = preds.numpy()\n",
        "\n",
        "\n",
        "\n",
        "dictt = {0: 'Tiger',\n",
        "    1: 'Snake',\n",
        "    2: 'Wolf',\n",
        "    3: 'Bear',\n",
        "    4: 'Rabbit',\n",
        "    5: 'Monkey',\n",
        "    6: 'Eagle',\n",
        "    7: 'Dolphin',\n",
        "    8: 'Koala'}\n",
        "\n",
        "arr1  = [ dictt[i]  for i in preds]\n",
        "arr1"
      ],
      "metadata": {
        "colab": {
          "base_uri": "https://localhost:8080/"
        },
        "id": "kXrFU5FEnNS7",
        "outputId": "4b9bca46-6cea-4a60-88df-cbb8d8407db4"
      },
      "execution_count": 104,
      "outputs": [
        {
          "output_type": "execute_result",
          "data": {
            "text/plain": [
              "['Eagle',\n",
              " 'Dolphin',\n",
              " 'Rabbit',\n",
              " 'Bear',\n",
              " 'Koala',\n",
              " 'Koala',\n",
              " 'Rabbit',\n",
              " 'Eagle',\n",
              " 'Koala',\n",
              " 'Bear',\n",
              " 'Dolphin',\n",
              " 'Snake',\n",
              " 'Dolphin',\n",
              " 'Monkey',\n",
              " 'Rabbit',\n",
              " 'Koala',\n",
              " 'Bear',\n",
              " 'Wolf',\n",
              " 'Wolf',\n",
              " 'Snake',\n",
              " 'Rabbit',\n",
              " 'Koala',\n",
              " 'Snake',\n",
              " 'Bear',\n",
              " 'Snake',\n",
              " 'Wolf',\n",
              " 'Dolphin',\n",
              " 'Wolf',\n",
              " 'Snake',\n",
              " 'Monkey',\n",
              " 'Dolphin',\n",
              " 'Snake',\n",
              " 'Koala',\n",
              " 'Eagle',\n",
              " 'Rabbit',\n",
              " 'Koala',\n",
              " 'Rabbit',\n",
              " 'Bear',\n",
              " 'Bear',\n",
              " 'Tiger',\n",
              " 'Wolf',\n",
              " 'Rabbit',\n",
              " 'Wolf',\n",
              " 'Koala',\n",
              " 'Rabbit',\n",
              " 'Tiger',\n",
              " 'Snake',\n",
              " 'Monkey',\n",
              " 'Eagle',\n",
              " 'Rabbit',\n",
              " 'Eagle',\n",
              " 'Bear',\n",
              " 'Monkey',\n",
              " 'Dolphin',\n",
              " 'Rabbit',\n",
              " 'Rabbit',\n",
              " 'Bear',\n",
              " 'Bear',\n",
              " 'Dolphin',\n",
              " 'Snake',\n",
              " 'Monkey',\n",
              " 'Rabbit',\n",
              " 'Wolf',\n",
              " 'Eagle',\n",
              " 'Dolphin',\n",
              " 'Dolphin',\n",
              " 'Rabbit',\n",
              " 'Tiger',\n",
              " 'Wolf',\n",
              " 'Dolphin',\n",
              " 'Koala',\n",
              " 'Monkey',\n",
              " 'Wolf',\n",
              " 'Koala',\n",
              " 'Eagle',\n",
              " 'Koala',\n",
              " 'Rabbit',\n",
              " 'Monkey',\n",
              " 'Koala',\n",
              " 'Koala',\n",
              " 'Rabbit',\n",
              " 'Dolphin',\n",
              " 'Wolf',\n",
              " 'Dolphin',\n",
              " 'Tiger',\n",
              " 'Tiger',\n",
              " 'Koala',\n",
              " 'Dolphin',\n",
              " 'Monkey',\n",
              " 'Koala',\n",
              " 'Koala',\n",
              " 'Monkey',\n",
              " 'Snake',\n",
              " 'Tiger',\n",
              " 'Koala',\n",
              " 'Koala',\n",
              " 'Monkey',\n",
              " 'Koala',\n",
              " 'Dolphin',\n",
              " 'Snake',\n",
              " 'Monkey',\n",
              " 'Eagle',\n",
              " 'Rabbit',\n",
              " 'Bear',\n",
              " 'Dolphin',\n",
              " 'Monkey',\n",
              " 'Bear',\n",
              " 'Monkey',\n",
              " 'Koala',\n",
              " 'Snake',\n",
              " 'Tiger',\n",
              " 'Tiger',\n",
              " 'Rabbit',\n",
              " 'Monkey',\n",
              " 'Snake',\n",
              " 'Bear',\n",
              " 'Rabbit',\n",
              " 'Dolphin',\n",
              " 'Koala',\n",
              " 'Koala',\n",
              " 'Eagle',\n",
              " 'Monkey',\n",
              " 'Bear',\n",
              " 'Bear',\n",
              " 'Snake',\n",
              " 'Eagle',\n",
              " 'Tiger',\n",
              " 'Monkey',\n",
              " 'Eagle',\n",
              " 'Wolf',\n",
              " 'Monkey',\n",
              " 'Monkey',\n",
              " 'Dolphin',\n",
              " 'Dolphin',\n",
              " 'Wolf',\n",
              " 'Rabbit',\n",
              " 'Koala',\n",
              " 'Koala',\n",
              " 'Eagle',\n",
              " 'Monkey',\n",
              " 'Dolphin',\n",
              " 'Dolphin',\n",
              " 'Tiger',\n",
              " 'Wolf',\n",
              " 'Tiger',\n",
              " 'Monkey',\n",
              " 'Bear',\n",
              " 'Koala',\n",
              " 'Eagle',\n",
              " 'Rabbit',\n",
              " 'Tiger',\n",
              " 'Bear',\n",
              " 'Rabbit',\n",
              " 'Wolf',\n",
              " 'Monkey',\n",
              " 'Eagle',\n",
              " 'Dolphin',\n",
              " 'Bear',\n",
              " 'Snake',\n",
              " 'Monkey',\n",
              " 'Dolphin',\n",
              " 'Koala',\n",
              " 'Koala',\n",
              " 'Dolphin',\n",
              " 'Monkey',\n",
              " 'Bear',\n",
              " 'Wolf',\n",
              " 'Snake',\n",
              " 'Snake',\n",
              " 'Koala',\n",
              " 'Dolphin',\n",
              " 'Monkey',\n",
              " 'Rabbit',\n",
              " 'Monkey',\n",
              " 'Snake',\n",
              " 'Rabbit',\n",
              " 'Eagle',\n",
              " 'Koala',\n",
              " 'Koala',\n",
              " 'Tiger',\n",
              " 'Tiger',\n",
              " 'Dolphin',\n",
              " 'Dolphin',\n",
              " 'Koala',\n",
              " 'Eagle',\n",
              " 'Eagle',\n",
              " 'Dolphin',\n",
              " 'Dolphin',\n",
              " 'Koala',\n",
              " 'Wolf',\n",
              " 'Monkey',\n",
              " 'Tiger',\n",
              " 'Wolf',\n",
              " 'Bear',\n",
              " 'Monkey',\n",
              " 'Tiger',\n",
              " 'Rabbit',\n",
              " 'Wolf',\n",
              " 'Wolf',\n",
              " 'Bear',\n",
              " 'Wolf',\n",
              " 'Snake',\n",
              " 'Dolphin',\n",
              " 'Koala',\n",
              " 'Rabbit',\n",
              " 'Eagle',\n",
              " 'Dolphin',\n",
              " 'Rabbit',\n",
              " 'Snake',\n",
              " 'Rabbit',\n",
              " 'Eagle',\n",
              " 'Rabbit',\n",
              " 'Bear',\n",
              " 'Eagle',\n",
              " 'Wolf',\n",
              " 'Koala',\n",
              " 'Wolf',\n",
              " 'Eagle',\n",
              " 'Bear',\n",
              " 'Dolphin',\n",
              " 'Bear',\n",
              " 'Eagle',\n",
              " 'Monkey',\n",
              " 'Snake',\n",
              " 'Wolf',\n",
              " 'Wolf',\n",
              " 'Bear',\n",
              " 'Koala',\n",
              " 'Rabbit',\n",
              " 'Koala',\n",
              " 'Rabbit',\n",
              " 'Dolphin',\n",
              " 'Eagle',\n",
              " 'Dolphin',\n",
              " 'Koala',\n",
              " 'Koala',\n",
              " 'Eagle',\n",
              " 'Bear',\n",
              " 'Wolf',\n",
              " 'Wolf',\n",
              " 'Monkey',\n",
              " 'Koala',\n",
              " 'Dolphin',\n",
              " 'Eagle',\n",
              " 'Wolf',\n",
              " 'Eagle',\n",
              " 'Snake',\n",
              " 'Tiger',\n",
              " 'Dolphin',\n",
              " 'Koala',\n",
              " 'Koala',\n",
              " 'Eagle',\n",
              " 'Bear',\n",
              " 'Bear',\n",
              " 'Eagle',\n",
              " 'Bear',\n",
              " 'Rabbit',\n",
              " 'Monkey',\n",
              " 'Eagle',\n",
              " 'Dolphin',\n",
              " 'Wolf',\n",
              " 'Bear',\n",
              " 'Monkey',\n",
              " 'Tiger',\n",
              " 'Wolf',\n",
              " 'Koala',\n",
              " 'Bear',\n",
              " 'Koala',\n",
              " 'Wolf',\n",
              " 'Koala',\n",
              " 'Koala']"
            ]
          },
          "metadata": {},
          "execution_count": 104
        }
      ]
    },
    {
      "cell_type": "code",
      "source": [
        "test_point.shape"
      ],
      "metadata": {
        "colab": {
          "base_uri": "https://localhost:8080/"
        },
        "id": "F2IOWaFhmWvQ",
        "outputId": "592e91f6-87aa-432c-8574-cd1b09ac49ea"
      },
      "execution_count": 97,
      "outputs": [
        {
          "output_type": "execute_result",
          "data": {
            "text/plain": [
              "torch.Size([271, 750, 32])"
            ]
          },
          "metadata": {},
          "execution_count": 97
        }
      ]
    },
    {
      "cell_type": "code",
      "source": [
        "\n",
        "# Create a tensor containing zero vectors with the same shape as the original tensor\n",
        "zero_vector = torch.zeros(271, 1, 32)  # 1 is added to the second dimension to match the size [271, 750, 32]\n",
        "\n",
        "# Concatenate the original tensor with the zero vector tensor along the second dimension\n",
        "test_point = torch.cat((test_point, zero_vector), dim=1)\n",
        "\n",
        "# Check the size of the new tensor\n",
        "test_point.size()"
      ],
      "metadata": {
        "colab": {
          "base_uri": "https://localhost:8080/"
        },
        "id": "rhDLw9-xpsIR",
        "outputId": "1f6f23bb-507f-4151-e44c-56d06ae9ebb8"
      },
      "execution_count": 75,
      "outputs": [
        {
          "output_type": "execute_result",
          "data": {
            "text/plain": [
              "torch.Size([271, 750, 32])"
            ]
          },
          "metadata": {},
          "execution_count": 75
        }
      ]
    },
    {
      "cell_type": "markdown",
      "source": [],
      "metadata": {
        "id": "_CkXHxBosVXY"
      }
    },
    {
      "cell_type": "code",
      "source": [
        "preds = model(test_point.unsqueeze(1))\n",
        "preds  = torch.argmax(preds ,axis=1)\n",
        "preds = preds.numpy()\n",
        "\n",
        "\n",
        "\n",
        "dictt = {0: 'Tiger',\n",
        "    1: 'Snake',\n",
        "    2: 'Wolf',\n",
        "    3: 'Bear',\n",
        "    4: 'Rabbit',\n",
        "    5: 'Monkey',\n",
        "    6: 'Eagle',\n",
        "    7: 'Dolphin',\n",
        "    8: 'Koala'}\n",
        "\n",
        "arr1  = [ dictt[i]  for i in preds]\n",
        "arr1"
      ],
      "metadata": {
        "colab": {
          "base_uri": "https://localhost:8080/"
        },
        "id": "EYHpSWIXmM1v",
        "outputId": "47000a9a-3e6d-4ad0-e7c4-aecb5b03a3e4"
      },
      "execution_count": 76,
      "outputs": [
        {
          "output_type": "execute_result",
          "data": {
            "text/plain": [
              "['Snake',\n",
              " 'Eagle',\n",
              " 'Rabbit',\n",
              " 'Bear',\n",
              " 'Koala',\n",
              " 'Eagle',\n",
              " 'Wolf',\n",
              " 'Snake',\n",
              " 'Monkey',\n",
              " 'Snake',\n",
              " 'Snake',\n",
              " 'Snake',\n",
              " 'Dolphin',\n",
              " 'Dolphin',\n",
              " 'Wolf',\n",
              " 'Snake',\n",
              " 'Snake',\n",
              " 'Koala',\n",
              " 'Koala',\n",
              " 'Snake',\n",
              " 'Snake',\n",
              " 'Tiger',\n",
              " 'Snake',\n",
              " 'Snake',\n",
              " 'Koala',\n",
              " 'Snake',\n",
              " 'Eagle',\n",
              " 'Dolphin',\n",
              " 'Snake',\n",
              " 'Snake',\n",
              " 'Dolphin',\n",
              " 'Snake',\n",
              " 'Eagle',\n",
              " 'Tiger',\n",
              " 'Koala',\n",
              " 'Dolphin',\n",
              " 'Snake',\n",
              " 'Rabbit',\n",
              " 'Snake',\n",
              " 'Tiger',\n",
              " 'Snake',\n",
              " 'Rabbit',\n",
              " 'Wolf',\n",
              " 'Wolf',\n",
              " 'Dolphin',\n",
              " 'Rabbit',\n",
              " 'Snake',\n",
              " 'Dolphin',\n",
              " 'Snake',\n",
              " 'Monkey',\n",
              " 'Eagle',\n",
              " 'Koala',\n",
              " 'Snake',\n",
              " 'Rabbit',\n",
              " 'Koala',\n",
              " 'Rabbit',\n",
              " 'Snake',\n",
              " 'Wolf',\n",
              " 'Snake',\n",
              " 'Wolf',\n",
              " 'Bear',\n",
              " 'Monkey',\n",
              " 'Dolphin',\n",
              " 'Eagle',\n",
              " 'Snake',\n",
              " 'Dolphin',\n",
              " 'Rabbit',\n",
              " 'Rabbit',\n",
              " 'Wolf',\n",
              " 'Dolphin',\n",
              " 'Monkey',\n",
              " 'Monkey',\n",
              " 'Bear',\n",
              " 'Rabbit',\n",
              " 'Monkey',\n",
              " 'Dolphin',\n",
              " 'Snake',\n",
              " 'Monkey',\n",
              " 'Dolphin',\n",
              " 'Rabbit',\n",
              " 'Tiger',\n",
              " 'Snake',\n",
              " 'Monkey',\n",
              " 'Dolphin',\n",
              " 'Snake',\n",
              " 'Koala',\n",
              " 'Wolf',\n",
              " 'Dolphin',\n",
              " 'Monkey',\n",
              " 'Wolf',\n",
              " 'Snake',\n",
              " 'Snake',\n",
              " 'Snake',\n",
              " 'Rabbit',\n",
              " 'Dolphin',\n",
              " 'Koala',\n",
              " 'Monkey',\n",
              " 'Dolphin',\n",
              " 'Wolf',\n",
              " 'Monkey',\n",
              " 'Monkey',\n",
              " 'Koala',\n",
              " 'Snake',\n",
              " 'Rabbit',\n",
              " 'Monkey',\n",
              " 'Monkey',\n",
              " 'Bear',\n",
              " 'Rabbit',\n",
              " 'Dolphin',\n",
              " 'Wolf',\n",
              " 'Bear',\n",
              " 'Monkey',\n",
              " 'Wolf',\n",
              " 'Koala',\n",
              " 'Snake',\n",
              " 'Tiger',\n",
              " 'Rabbit',\n",
              " 'Monkey',\n",
              " 'Koala',\n",
              " 'Wolf',\n",
              " 'Monkey',\n",
              " 'Koala',\n",
              " 'Dolphin',\n",
              " 'Wolf',\n",
              " 'Bear',\n",
              " 'Bear',\n",
              " 'Wolf',\n",
              " 'Rabbit',\n",
              " 'Wolf',\n",
              " 'Koala',\n",
              " 'Wolf',\n",
              " 'Monkey',\n",
              " 'Koala',\n",
              " 'Koala',\n",
              " 'Rabbit',\n",
              " 'Wolf',\n",
              " 'Wolf',\n",
              " 'Koala',\n",
              " 'Wolf',\n",
              " 'Rabbit',\n",
              " 'Eagle',\n",
              " 'Wolf',\n",
              " 'Rabbit',\n",
              " 'Rabbit',\n",
              " 'Snake',\n",
              " 'Wolf',\n",
              " 'Dolphin',\n",
              " 'Wolf',\n",
              " 'Eagle',\n",
              " 'Snake',\n",
              " 'Eagle',\n",
              " 'Monkey',\n",
              " 'Wolf',\n",
              " 'Snake',\n",
              " 'Wolf',\n",
              " 'Eagle',\n",
              " 'Rabbit',\n",
              " 'Monkey',\n",
              " 'Snake',\n",
              " 'Koala',\n",
              " 'Tiger',\n",
              " 'Snake',\n",
              " 'Dolphin',\n",
              " 'Wolf',\n",
              " 'Monkey',\n",
              " 'Monkey',\n",
              " 'Wolf',\n",
              " 'Dolphin',\n",
              " 'Snake',\n",
              " 'Koala',\n",
              " 'Dolphin',\n",
              " 'Rabbit',\n",
              " 'Snake',\n",
              " 'Monkey',\n",
              " 'Wolf',\n",
              " 'Monkey',\n",
              " 'Wolf',\n",
              " 'Monkey',\n",
              " 'Koala',\n",
              " 'Monkey',\n",
              " 'Bear',\n",
              " 'Bear',\n",
              " 'Monkey',\n",
              " 'Koala',\n",
              " 'Bear',\n",
              " 'Eagle',\n",
              " 'Dolphin',\n",
              " 'Wolf',\n",
              " 'Dolphin',\n",
              " 'Rabbit',\n",
              " 'Rabbit',\n",
              " 'Snake',\n",
              " 'Koala',\n",
              " 'Eagle',\n",
              " 'Wolf',\n",
              " 'Snake',\n",
              " 'Snake',\n",
              " 'Wolf',\n",
              " 'Snake',\n",
              " 'Dolphin',\n",
              " 'Dolphin',\n",
              " 'Eagle',\n",
              " 'Dolphin',\n",
              " 'Dolphin',\n",
              " 'Dolphin',\n",
              " 'Dolphin',\n",
              " 'Dolphin',\n",
              " 'Tiger',\n",
              " 'Tiger',\n",
              " 'Rabbit',\n",
              " 'Koala',\n",
              " 'Eagle',\n",
              " 'Rabbit',\n",
              " 'Eagle',\n",
              " 'Rabbit',\n",
              " 'Eagle',\n",
              " 'Snake',\n",
              " 'Wolf',\n",
              " 'Monkey',\n",
              " 'Dolphin',\n",
              " 'Wolf',\n",
              " 'Wolf',\n",
              " 'Monkey',\n",
              " 'Snake',\n",
              " 'Snake',\n",
              " 'Dolphin',\n",
              " 'Bear',\n",
              " 'Rabbit',\n",
              " 'Rabbit',\n",
              " 'Koala',\n",
              " 'Monkey',\n",
              " 'Koala',\n",
              " 'Eagle',\n",
              " 'Dolphin',\n",
              " 'Tiger',\n",
              " 'Monkey',\n",
              " 'Rabbit',\n",
              " 'Dolphin',\n",
              " 'Wolf',\n",
              " 'Eagle',\n",
              " 'Monkey',\n",
              " 'Monkey',\n",
              " 'Dolphin',\n",
              " 'Bear',\n",
              " 'Eagle',\n",
              " 'Snake',\n",
              " 'Snake',\n",
              " 'Wolf',\n",
              " 'Rabbit',\n",
              " 'Tiger',\n",
              " 'Rabbit',\n",
              " 'Eagle',\n",
              " 'Monkey',\n",
              " 'Rabbit',\n",
              " 'Snake',\n",
              " 'Koala',\n",
              " 'Snake',\n",
              " 'Eagle',\n",
              " 'Rabbit',\n",
              " 'Wolf',\n",
              " 'Dolphin',\n",
              " 'Snake',\n",
              " 'Dolphin',\n",
              " 'Eagle',\n",
              " 'Rabbit',\n",
              " 'Dolphin',\n",
              " 'Monkey',\n",
              " 'Monkey',\n",
              " 'Wolf',\n",
              " 'Monkey',\n",
              " 'Bear']"
            ]
          },
          "metadata": {},
          "execution_count": 76
        }
      ]
    }
  ]
}