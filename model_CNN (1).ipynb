{
  "nbformat": 4,
  "nbformat_minor": 0,
  "metadata": {
    "colab": {
      "provenance": []
    },
    "kernelspec": {
      "name": "python3",
      "display_name": "Python 3"
    },
    "language_info": {
      "name": "python"
    }
  },
  "cells": [
    {
      "cell_type": "markdown",
      "source": [
        "**ML challenge Hackrush 23**"
      ],
      "metadata": {
        "id": "DrpEvZfhEbMl"
      }
    },
    {
      "cell_type": "code",
      "execution_count": 212,
      "metadata": {
        "id": "CjYW40lUjO7Q"
      },
      "outputs": [],
      "source": [
        "import torch\n",
        "import torch.nn as nn\n",
        "import torch.optim as optim\n",
        "import torch.nn.functional as F\n",
        "from torch.utils.data import DataLoader, TensorDataset\n",
        "device = \"cuda\"  if torch.cuda.is_available() else \"cpu\"\n",
        "import numpy as np\n",
        "import pandas as pd\n",
        "import matplotlib.pyplot as plt\n"
      ]
    },
    {
      "cell_type": "markdown",
      "source": [
        "Input Data  :  (280,6750,32)  size tensor  with each datapoint dimension  (6750*32). Coverted this 6750 rows in each datapoint to 750 rows. Each row as the average of consecutive 9 rows"
      ],
      "metadata": {
        "id": "6yd34FEhFrif"
      }
    },
    {
      "cell_type": "markdown",
      "source": [
        "## Loading the preprocessed data"
      ],
      "metadata": {
        "id": "CY909kiE9J2v"
      }
    },
    {
      "cell_type": "code",
      "source": [
        "def create_data_pt(random_tensor: torch.Tensor)->torch.Tensor:\n",
        "\n",
        "    le =  int(random_tensor.shape[0]/32)\n",
        "\n",
        "    arr = torch.zeros(le,random_tensor.shape[1]-1,32,requires_grad = True).to(device)\n",
        "    for i in range(le):\n",
        "\n",
        "        data_pt = random_tensor[32*i: 32*(i+1),:-1]\n",
        "        data_pt = data_pt.T\n",
        "#         print(data_pt.shape)\n",
        "        arr[i] =  data_pt\n",
        "\n",
        "\n",
        "    return arr"
      ],
      "metadata": {
        "id": "CR0TINCHEnEy"
      },
      "execution_count": null,
      "outputs": []
    },
    {
      "cell_type": "code",
      "source": [
        "def find_labels(random_tensor:torch.Tensor)-> torch.Tensor:\n",
        "\n",
        "\n",
        "    y_values = random_tensor[:,-1]\n",
        "\n",
        "    labels = torch.zeros(int(y_values.shape[0]/32),dtype= int)\n",
        "\n",
        "    for i in range(len(y_values)):\n",
        "        if(i%32==0):\n",
        "    #         print(i)\n",
        "            ind = int(i/32)\n",
        "            labels[ind] = y_values[i]\n",
        "\n",
        "\n",
        "\n",
        "    return labels.to(device)"
      ],
      "metadata": {
        "id": "7PEgoX-OEw-5"
      },
      "execution_count": null,
      "outputs": []
    },
    {
      "cell_type": "code",
      "source": [
        "X_train = np.load(\"/content/X_train_up.npy\")\n",
        "X_test = np.load(\"/content/X_test_up (1).npy\")"
      ],
      "metadata": {
        "id": "7ptNyxAojUSs"
      },
      "execution_count": 213,
      "outputs": []
    },
    {
      "cell_type": "markdown",
      "source": [
        "Scaling the data points between -1 and 1\n"
      ],
      "metadata": {
        "id": "hKRLUBkj9FhA"
      }
    },
    {
      "cell_type": "code",
      "source": [
        "from sklearn.preprocessing import StandardScaler\n",
        "\n",
        "X_train_tr = []\n",
        "scaler = StandardScaler()\n",
        "for i in range(len(X_train)):\n",
        "\n",
        "    tt  =  scaler.fit_transform(X_train[i])\n",
        "    X_train_tr.append(tt)\n",
        "X_train = np.array(X_train_tr)"
      ],
      "metadata": {
        "id": "Wtyf6mJJmdUk"
      },
      "execution_count": 214,
      "outputs": []
    },
    {
      "cell_type": "code",
      "source": [
        "# from sklearn.decomposition import PCA\n",
        "\n",
        "# pca = PCA(n_components =16)\n",
        "\n",
        "# X_train_tr = []\n",
        "\n",
        "# for i in range(len(X_train)):\n",
        "\n",
        "#     tt  =  pca.fit_transform(X_train[i])\n",
        "#     X_train_tr.append(tt)\n",
        "# X_train = np.array(X_train_tr)"
      ],
      "metadata": {
        "id": "c1igzDhNjjnA"
      },
      "execution_count": 161,
      "outputs": []
    },
    {
      "cell_type": "code",
      "source": [
        "X_test_tr = []\n",
        "\n",
        "for i in range(len(X_test)):\n",
        "\n",
        "    tt  =  scaler.fit_transform(X_test[i])\n",
        "    X_test_tr.append(tt)\n",
        "X_test = np.array(X_test_tr)"
      ],
      "metadata": {
        "id": "g_S6mORxjpWJ"
      },
      "execution_count": 215,
      "outputs": []
    },
    {
      "cell_type": "code",
      "source": [
        "X_train =  torch.tensor(X_train,requires_grad= True).to(device)\n",
        "X_test =  torch.tensor(X_test,requires_grad = True).to(device)"
      ],
      "metadata": {
        "id": "1hG9t0Z9jsBv"
      },
      "execution_count": 216,
      "outputs": []
    },
    {
      "cell_type": "code",
      "source": [],
      "metadata": {
        "id": "aal8PSOJ_fKC"
      },
      "execution_count": null,
      "outputs": []
    },
    {
      "cell_type": "markdown",
      "source": [
        "Shape of preprocessed input"
      ],
      "metadata": {
        "id": "J3xUc05KGY2i"
      }
    },
    {
      "cell_type": "code",
      "source": [
        "X_train.shape"
      ],
      "metadata": {
        "colab": {
          "base_uri": "https://localhost:8080/"
        },
        "id": "Be_QYIYfmd_v",
        "outputId": "ae6bf0c9-ab62-42da-b579-ecadf2f2ecaf"
      },
      "execution_count": 217,
      "outputs": [
        {
          "output_type": "execute_result",
          "data": {
            "text/plain": [
              "torch.Size([224, 750, 32])"
            ]
          },
          "metadata": {},
          "execution_count": 217
        }
      ]
    },
    {
      "cell_type": "code",
      "source": [
        "y_train  = torch.load(\"/content/y_train.pt\",map_location = device)\n",
        "y_test = torch.load(\"/content/y_test.pt\",map_location = device)\n"
      ],
      "metadata": {
        "id": "IcnMY2Z5jt_7"
      },
      "execution_count": 218,
      "outputs": []
    },
    {
      "cell_type": "code",
      "source": [
        "for i in range(len(y_train)):\n",
        "    y_train[i]-=1;\n",
        "for i in range(len(y_test)):\n",
        "    y_test[i]-=1;\n"
      ],
      "metadata": {
        "id": "k8zetVfEjxax"
      },
      "execution_count": 219,
      "outputs": []
    },
    {
      "cell_type": "markdown",
      "source": [
        "Creating batch instance of test and train data"
      ],
      "metadata": {
        "id": "BgnqFORDGhQa"
      }
    },
    {
      "cell_type": "code",
      "source": [
        "batch_size=10\n",
        "train_loader = DataLoader(TensorDataset(X_train,y_train), batch_size=10, shuffle=True)\n",
        "test_loader = DataLoader(TensorDataset(X_test,y_test), batch_size=10,shuffle = True)\n"
      ],
      "metadata": {
        "id": "_0vrtDkjj0h_"
      },
      "execution_count": 220,
      "outputs": []
    },
    {
      "cell_type": "code",
      "source": [
        "l1 = nn.Conv2d(in_channels=1, out_channels=10, kernel_size=4, stride=1, padding=0).to(device)\n",
        "\n",
        "\n",
        "l2 = nn.Conv2d(in_channels=10, out_channels=100, kernel_size=4, stride=1, padding=0).to(device)\n",
        "l3 = nn.Conv2d(in_channels=100, out_channels=150, kernel_size=4, stride=1, padding=0,dtype = torch.float32)\n",
        "pool = nn.MaxPool2d(kernel_size=(2, 2), stride=2).to(device)\n",
        "print(X_train[0].shape)\n",
        "a  =l1(X_train[0].unsqueeze(0))\n",
        "print(a.shape)\n",
        "print(pool(l3(pool(l2(pool(a))))).shape)"
      ],
      "metadata": {
        "colab": {
          "base_uri": "https://localhost:8080/"
        },
        "id": "A1BdVOtfkLcX",
        "outputId": "4fe8bea2-40c7-42a4-fa56-719846f9ee36"
      },
      "execution_count": 237,
      "outputs": [
        {
          "output_type": "stream",
          "name": "stdout",
          "text": [
            "torch.Size([750, 32])\n",
            "torch.Size([10, 747, 29])\n",
            "torch.Size([150, 91, 1])\n"
          ]
        }
      ]
    },
    {
      "cell_type": "markdown",
      "source": [
        "CNN model defintion"
      ],
      "metadata": {
        "id": "aw46JEh9Gnbh"
      }
    },
    {
      "cell_type": "code",
      "source": [
        "class CNNmodel(nn.Module):\n",
        "\n",
        "    def __init__(self,num_classes):\n",
        "        super(CNNmodel, self).__init__()\n",
        "\n",
        "        self.conv1 = nn.Conv2d(in_channels=1, out_channels=10, kernel_size=4, stride=1, padding=0,dtype = torch.float32)\n",
        "        self.conv2 = nn.Conv2d(in_channels=10, out_channels=100, kernel_size=4, stride=1, padding=0,dtype = torch.float32)\n",
        "        self.conv3 = nn.Conv2d(in_channels=100, out_channels=150, kernel_size=4, stride=1, padding=0,dtype = torch.float32)\n",
        "        self.pool = nn.MaxPool2d(kernel_size=2, stride=2)\n",
        "        self.fc1 = nn.Linear(150*91*1, 128,dtype = torch.float32)\n",
        "        self.fc3 = nn.Linear(40, num_classes,dtype = torch.float32)  # Adjust input size based on your data dimensions\n",
        "        self.fc2 = nn.Linear(128, 40,dtype = torch.float32)\n",
        "\n",
        "    def forward(self,x):\n",
        "\n",
        "        x = self.pool(F.relu(self.conv1(x)))\n",
        "        x = self.pool(F.relu(self.conv2(x)))\n",
        "        x = self.pool(F.relu(self.conv3(x)))\n",
        "        x = x.view(-1, 150*91*1)  # Adjust input size based on your data dimensions\n",
        "\n",
        "        x = F.relu(self.fc1(x))\n",
        "        x = self.fc2(x)\n",
        "        x= F.relu(x)\n",
        "        x = self.fc3(x)\n",
        "        return x\n",
        "\n"
      ],
      "metadata": {
        "id": "TFDbfF_AkE1p"
      },
      "execution_count": 238,
      "outputs": []
    },
    {
      "cell_type": "code",
      "source": [
        "model = CNNmodel(9).to(device)\n",
        "# model\n",
        "criterion = nn.CrossEntropyLoss()\n",
        "optimizer = optim.Adam(model.parameters(), lr=0.001)"
      ],
      "metadata": {
        "id": "eD7BKzM7kmG1"
      },
      "execution_count": 239,
      "outputs": []
    },
    {
      "cell_type": "code",
      "source": [
        "test  =[]\n",
        "train =[]"
      ],
      "metadata": {
        "id": "xV30ghcn_Kdd"
      },
      "execution_count": 240,
      "outputs": []
    },
    {
      "cell_type": "code",
      "source": [
        "def test_acc(model,test_loader =  test_loader):\n",
        "  test_acc = 0\n",
        "  with torch.inference_mode():\n",
        "      for sequences,label in test_loader:\n",
        "          sequences = sequences.to(device)\n",
        "          label = label.to(device)\n",
        "          preds = model(sequences.unsqueeze(1))\n",
        "\n",
        "          preds =  torch.argmax(preds,axis =1)\n",
        "\n",
        "          test_acc += (preds==label.squeeze()).sum()\n",
        "  return test_acc/len(y_test)\n",
        "# print(f\"accuracy on testing set {test_acc/len(y_test)}\")"
      ],
      "metadata": {
        "id": "BCnfTFXDllMj"
      },
      "execution_count": 241,
      "outputs": []
    },
    {
      "cell_type": "code",
      "source": [
        "def train_acc(model,train_loader= train_loader):\n",
        "  train_acc = 0\n",
        "  with torch.inference_mode():\n",
        "      for sequences,label in train_loader:\n",
        "          sequences = sequences.to(device)\n",
        "          label = label.to(device)\n",
        "          preds = model(sequences.unsqueeze(1))\n",
        "\n",
        "          preds =  torch.argmax(preds,axis =1)\n",
        "\n",
        "          train_acc += (preds==label.squeeze()).sum()\n",
        "  return train_acc/len(y_test)\n",
        "  # print(f\"accuracy on training set {train_acc/len(y_train)}\")\n"
      ],
      "metadata": {
        "id": "Mq2OJVYElfzV"
      },
      "execution_count": 242,
      "outputs": []
    },
    {
      "cell_type": "code",
      "source": [
        "num_epochs = 15\n",
        "for epoch in range(num_epochs):\n",
        "\n",
        "\n",
        "    for batch_idx, (data, targets) in enumerate(train_loader):\n",
        "        model.train()\n",
        "        optimizer.zero_grad()\n",
        "        data = data.to(device=device, dtype=torch.float32)\n",
        "        outputs = model(data.unsqueeze(1))\n",
        "        outputs = outputs.to(device =  device, dtype = torch.float32)\n",
        "#         targets = targets.to(device=device, dtype=torch.float32)# Add a channel dimension\n",
        "        # print(data.shape,targets.shape)\n",
        "        loss = criterion(outputs, targets.squeeze())\n",
        "        loss.backward()\n",
        "        optimizer.step()\n",
        "        if (batch_idx + 1) % 10 == 0:\n",
        "            print(f'Epoch [{epoch+1}/{num_epochs}], Step [{batch_idx+1}/{len(train_loader)}], Loss: {loss.item():.4f}')\n",
        "            train.append(train_acc(model,train_loader).item())\n",
        "            test.append(test_acc(model,test_loader).item())\n",
        "\n",
        "# Evaluation\n"
      ],
      "metadata": {
        "colab": {
          "base_uri": "https://localhost:8080/"
        },
        "id": "U-Sd3NHJkiYF",
        "outputId": "a0b3a3e7-8c38-45e9-e25a-b26f6d887ce4"
      },
      "execution_count": 243,
      "outputs": [
        {
          "output_type": "stream",
          "name": "stdout",
          "text": [
            "Epoch [1/15], Step [10/23], Loss: 2.1558\n",
            "Epoch [1/15], Step [20/23], Loss: 2.2091\n",
            "Epoch [2/15], Step [10/23], Loss: 2.2325\n",
            "Epoch [2/15], Step [20/23], Loss: 2.1987\n",
            "Epoch [3/15], Step [10/23], Loss: 2.2006\n",
            "Epoch [3/15], Step [20/23], Loss: 2.1837\n",
            "Epoch [4/15], Step [10/23], Loss: 2.2285\n",
            "Epoch [4/15], Step [20/23], Loss: 2.2808\n",
            "Epoch [5/15], Step [10/23], Loss: 1.6522\n",
            "Epoch [5/15], Step [20/23], Loss: 2.1045\n",
            "Epoch [6/15], Step [10/23], Loss: 1.0881\n",
            "Epoch [6/15], Step [20/23], Loss: 1.5905\n",
            "Epoch [7/15], Step [10/23], Loss: 1.4287\n",
            "Epoch [7/15], Step [20/23], Loss: 1.6612\n",
            "Epoch [8/15], Step [10/23], Loss: 0.7179\n",
            "Epoch [8/15], Step [20/23], Loss: 0.8368\n",
            "Epoch [9/15], Step [10/23], Loss: 0.6490\n",
            "Epoch [9/15], Step [20/23], Loss: 0.1751\n",
            "Epoch [10/15], Step [10/23], Loss: 0.1479\n",
            "Epoch [10/15], Step [20/23], Loss: 0.3928\n",
            "Epoch [11/15], Step [10/23], Loss: 0.0768\n",
            "Epoch [11/15], Step [20/23], Loss: 0.2218\n",
            "Epoch [12/15], Step [10/23], Loss: 0.0588\n",
            "Epoch [12/15], Step [20/23], Loss: 0.0297\n",
            "Epoch [13/15], Step [10/23], Loss: 0.0256\n",
            "Epoch [13/15], Step [20/23], Loss: 0.0247\n",
            "Epoch [14/15], Step [10/23], Loss: 0.0058\n",
            "Epoch [14/15], Step [20/23], Loss: 0.0231\n",
            "Epoch [15/15], Step [10/23], Loss: 0.0283\n",
            "Epoch [15/15], Step [20/23], Loss: 0.0111\n"
          ]
        }
      ]
    },
    {
      "cell_type": "code",
      "source": [
        "train"
      ],
      "metadata": {
        "colab": {
          "base_uri": "https://localhost:8080/"
        },
        "id": "20P-F2D-AU0_",
        "outputId": "c572a912-91d0-4203-8426-84a096d49cc5"
      },
      "execution_count": 246,
      "outputs": [
        {
          "output_type": "execute_result",
          "data": {
            "text/plain": [
              "[0.4285714328289032,\n",
              " 0.4285714328289032,\n",
              " 0.4285714328289032,\n",
              " 0.4285714328289032,\n",
              " 0.5357142686843872,\n",
              " 0.7321428656578064,\n",
              " 0.75,\n",
              " 1.0535714626312256,\n",
              " 1.625,\n",
              " 1.5178571939468384,\n",
              " 1.75,\n",
              " 1.5535714626312256,\n",
              " 2.4107143878936768,\n",
              " 2.642857074737549,\n",
              " 2.857142925262451,\n",
              " 3.3392856121063232,\n",
              " 3.4642856121063232,\n",
              " 3.5357143878936768,\n",
              " 3.5357143878936768,\n",
              " 3.892857074737549,\n",
              " 3.9464285373687744,\n",
              " 3.9642856121063232,\n",
              " 3.9642856121063232,\n",
              " 3.8035714626312256,\n",
              " 3.875,\n",
              " 4.0,\n",
              " 4.0,\n",
              " 4.0,\n",
              " 4.0,\n",
              " 4.0]"
            ]
          },
          "metadata": {},
          "execution_count": 246
        }
      ]
    },
    {
      "cell_type": "code",
      "source": [
        "plt.plot(range(len(train)), train, color = 'r', label = \"train acc\")\n",
        "plt.plot(range(len(test)), test, color = 'b',label = \"test acc\")\n",
        "plt.title(\"acc vs epoch\")\n",
        "plt.xlabel(\"epoch\")\n",
        "plt.ylabel(\"acc\")\n",
        "plt.legend()\n",
        "plt.show()"
      ],
      "metadata": {
        "colab": {
          "base_uri": "https://localhost:8080/",
          "height": 472
        },
        "id": "8aBWWjfW_nGc",
        "outputId": "50ad0a07-a28c-4535-a219-0ba4ec8ade9f"
      },
      "execution_count": 250,
      "outputs": [
        {
          "output_type": "display_data",
          "data": {
            "text/plain": [
              "<Figure size 640x480 with 1 Axes>"
            ],
            "image/png": "[encoded data removed]"
          },
          "metadata": {}
        }
      ]
    },
    {
      "cell_type": "code",
      "source": [
        "torch.save(model.state_dict(),\"model_13_cnn.pth\")"
      ],
      "metadata": {
        "id": "_ZqRwPrGouYM"
      },
      "execution_count": 253,
      "outputs": []
    },
    {
      "cell_type": "code",
      "source": [
        "test_point = torch.load(\"/content/og_test_points.pt\")"
      ],
      "metadata": {
        "id": "-Dk6zdRimHoX"
      },
      "execution_count": 254,
      "outputs": []
    },
    {
      "cell_type": "code",
      "source": [
        "# import pandas as pd\n",
        "# test = pd.read_excel(\"/content/Test.xlsx\")\n",
        "\n",
        "# test = test.drop(columns= [\"ID\"])\n",
        "# test = test.values\n",
        "\n",
        "# print(test.shape)\n",
        "# test = torch.tensor(test,dtype = torch.float32)\n",
        "# def create_data_pt(random_tensor: torch.Tensor)->torch.Tensor:\n",
        "\n",
        "#     le =  int(random_tensor.shape[0]/32)\n",
        "\n",
        "#     arr = torch.zeros(le,random_tensor.shape[1],32).to(device)\n",
        "#     for i in range(le):\n",
        "\n",
        "#         data_pt = random_tensor[32*i: 32*(i+1),:]\n",
        "#         data_pt = data_pt.T\n",
        "# #         print(data_pt.shape)\n",
        "#         arr[i] =  data_pt\n",
        "\n",
        "\n",
        "#     return arr\n",
        "\n",
        "# test_points=  create_data_pt(test)\n",
        "\n",
        "# print(test_points.shape)"
      ],
      "metadata": {
        "colab": {
          "base_uri": "https://localhost:8080/",
          "height": 463
        },
        "id": "7vmmHjqju8F8",
        "outputId": "7dcc667a-15c7-4fe7-d098-1c8b3ebabdeb"
      },
      "execution_count": 207,
      "outputs": [
        {
          "output_type": "stream",
          "name": "stderr",
          "text": [
            "Exception ignored in: <function _xla_gc_callback at 0x786c8acd6320>\n",
            "Traceback (most recent call last):\n",
            "  File \"/usr/local/lib/python3.10/dist-packages/jax/_src/lib/__init__.py\", line 98, in _xla_gc_callback\n",
            "    def _xla_gc_callback(*args):\n",
            "KeyboardInterrupt: \n"
          ]
        },
        {
          "output_type": "error",
          "ename": "KeyboardInterrupt",
          "evalue": "",
          "traceback": [
            "\u001b[0;31m---------------------------------------------------------------------------\u001b[0m",
            "\u001b[0;31mKeyboardInterrupt\u001b[0m                         Traceback (most recent call last)",
            "\u001b[0;32m<ipython-input-207-9aad064ec792>\u001b[0m in \u001b[0;36m<cell line: 2>\u001b[0;34m()\u001b[0m\n\u001b[1;32m      1\u001b[0m \u001b[0;32mimport\u001b[0m \u001b[0mpandas\u001b[0m \u001b[0;32mas\u001b[0m \u001b[0mpd\u001b[0m\u001b[0;34m\u001b[0m\u001b[0;34m\u001b[0m\u001b[0m\n\u001b[0;32m----> 2\u001b[0;31m \u001b[0mtest\u001b[0m \u001b[0;34m=\u001b[0m \u001b[0mpd\u001b[0m\u001b[0;34m.\u001b[0m\u001b[0mread_excel\u001b[0m\u001b[0;34m(\u001b[0m\u001b[0;34m\"/content/Test.xlsx\"\u001b[0m\u001b[0;34m)\u001b[0m\u001b[0;34m\u001b[0m\u001b[0;34m\u001b[0m\u001b[0m\n\u001b[0m\u001b[1;32m      3\u001b[0m \u001b[0;34m\u001b[0m\u001b[0m\n\u001b[1;32m      4\u001b[0m \u001b[0mtest\u001b[0m \u001b[0;34m=\u001b[0m \u001b[0mtest\u001b[0m\u001b[0;34m.\u001b[0m\u001b[0mdrop\u001b[0m\u001b[0;34m(\u001b[0m\u001b[0mcolumns\u001b[0m\u001b[0;34m=\u001b[0m \u001b[0;34m[\u001b[0m\u001b[0;34m\"ID\"\u001b[0m\u001b[0;34m]\u001b[0m\u001b[0;34m)\u001b[0m\u001b[0;34m\u001b[0m\u001b[0;34m\u001b[0m\u001b[0m\n\u001b[1;32m      5\u001b[0m \u001b[0mtest\u001b[0m \u001b[0;34m=\u001b[0m \u001b[0mtest\u001b[0m\u001b[0;34m.\u001b[0m\u001b[0mvalues\u001b[0m\u001b[0;34m\u001b[0m\u001b[0;34m\u001b[0m\u001b[0m\n",
            "\u001b[0;32m/usr/local/lib/python3.10/dist-packages/pandas/io/excel/_base.py\u001b[0m in \u001b[0;36mread_excel\u001b[0;34m(io, sheet_name, header, names, index_col, usecols, dtype, engine, converters, true_values, false_values, skiprows, nrows, na_values, keep_default_na, na_filter, verbose, parse_dates, date_parser, date_format, thousands, decimal, comment, skipfooter, storage_options, dtype_backend)\u001b[0m\n\u001b[1;32m    484\u001b[0m \u001b[0;34m\u001b[0m\u001b[0m\n\u001b[1;32m    485\u001b[0m     \u001b[0;32mtry\u001b[0m\u001b[0;34m:\u001b[0m\u001b[0;34m\u001b[0m\u001b[0;34m\u001b[0m\u001b[0m\n\u001b[0;32m--> 486\u001b[0;31m         data = io.parse(\n\u001b[0m\u001b[1;32m    487\u001b[0m             \u001b[0msheet_name\u001b[0m\u001b[0;34m=\u001b[0m\u001b[0msheet_name\u001b[0m\u001b[0;34m,\u001b[0m\u001b[0;34m\u001b[0m\u001b[0;34m\u001b[0m\u001b[0m\n\u001b[1;32m    488\u001b[0m             \u001b[0mheader\u001b[0m\u001b[0;34m=\u001b[0m\u001b[0mheader\u001b[0m\u001b[0;34m,\u001b[0m\u001b[0;34m\u001b[0m\u001b[0;34m\u001b[0m\u001b[0m\n",
            "\u001b[0;32m/usr/local/lib/python3.10/dist-packages/pandas/io/excel/_base.py\u001b[0m in \u001b[0;36mparse\u001b[0;34m(self, sheet_name, header, names, index_col, usecols, converters, true_values, false_values, skiprows, nrows, na_values, parse_dates, date_parser, date_format, thousands, comment, skipfooter, dtype_backend, **kwds)\u001b[0m\n\u001b[1;32m   1549\u001b[0m             \u001b[0mDataFrame\u001b[0m \u001b[0;32mfrom\u001b[0m \u001b[0mthe\u001b[0m \u001b[0mpassed\u001b[0m \u001b[0;32min\u001b[0m \u001b[0mExcel\u001b[0m \u001b[0mfile\u001b[0m\u001b[0;34m.\u001b[0m\u001b[0;34m\u001b[0m\u001b[0;34m\u001b[0m\u001b[0m\n\u001b[1;32m   1550\u001b[0m         \"\"\"\n\u001b[0;32m-> 1551\u001b[0;31m         return self._reader.parse(\n\u001b[0m\u001b[1;32m   1552\u001b[0m             \u001b[0msheet_name\u001b[0m\u001b[0;34m=\u001b[0m\u001b[0msheet_name\u001b[0m\u001b[0;34m,\u001b[0m\u001b[0;34m\u001b[0m\u001b[0;34m\u001b[0m\u001b[0m\n\u001b[1;32m   1553\u001b[0m             \u001b[0mheader\u001b[0m\u001b[0;34m=\u001b[0m\u001b[0mheader\u001b[0m\u001b[0;34m,\u001b[0m\u001b[0;34m\u001b[0m\u001b[0;34m\u001b[0m\u001b[0m\n",
            "\u001b[0;32m/usr/local/lib/python3.10/dist-packages/pandas/io/excel/_base.py\u001b[0m in \u001b[0;36mparse\u001b[0;34m(self, sheet_name, header, names, index_col, usecols, dtype, true_values, false_values, skiprows, nrows, na_values, verbose, parse_dates, date_parser, date_format, thousands, decimal, comment, skipfooter, dtype_backend, **kwds)\u001b[0m\n\u001b[1;32m    749\u001b[0m \u001b[0;34m\u001b[0m\u001b[0m\n\u001b[1;32m    750\u001b[0m             \u001b[0mfile_rows_needed\u001b[0m \u001b[0;34m=\u001b[0m \u001b[0mself\u001b[0m\u001b[0;34m.\u001b[0m\u001b[0m_calc_rows\u001b[0m\u001b[0;34m(\u001b[0m\u001b[0mheader\u001b[0m\u001b[0;34m,\u001b[0m \u001b[0mindex_col\u001b[0m\u001b[0;34m,\u001b[0m \u001b[0mskiprows\u001b[0m\u001b[0;34m,\u001b[0m \u001b[0mnrows\u001b[0m\u001b[0;34m)\u001b[0m\u001b[0;34m\u001b[0m\u001b[0;34m\u001b[0m\u001b[0m\n\u001b[0;32m--> 751\u001b[0;31m             \u001b[0mdata\u001b[0m \u001b[0;34m=\u001b[0m \u001b[0mself\u001b[0m\u001b[0;34m.\u001b[0m\u001b[0mget_sheet_data\u001b[0m\u001b[0;34m(\u001b[0m\u001b[0msheet\u001b[0m\u001b[0;34m,\u001b[0m \u001b[0mfile_rows_needed\u001b[0m\u001b[0;34m)\u001b[0m\u001b[0;34m\u001b[0m\u001b[0;34m\u001b[0m\u001b[0m\n\u001b[0m\u001b[1;32m    752\u001b[0m             \u001b[0;32mif\u001b[0m \u001b[0mhasattr\u001b[0m\u001b[0;34m(\u001b[0m\u001b[0msheet\u001b[0m\u001b[0;34m,\u001b[0m \u001b[0;34m\"close\"\u001b[0m\u001b[0;34m)\u001b[0m\u001b[0;34m:\u001b[0m\u001b[0;34m\u001b[0m\u001b[0;34m\u001b[0m\u001b[0m\n\u001b[1;32m    753\u001b[0m                 \u001b[0;31m# pyxlsb opens two TemporaryFiles\u001b[0m\u001b[0;34m\u001b[0m\u001b[0;34m\u001b[0m\u001b[0m\n",
            "\u001b[0;32m/usr/local/lib/python3.10/dist-packages/pandas/io/excel/_openpyxl.py\u001b[0m in \u001b[0;36mget_sheet_data\u001b[0;34m(self, sheet, file_rows_needed)\u001b[0m\n\u001b[1;32m    601\u001b[0m         \u001b[0mlast_row_with_data\u001b[0m \u001b[0;34m=\u001b[0m \u001b[0;34m-\u001b[0m\u001b[0;36m1\u001b[0m\u001b[0;34m\u001b[0m\u001b[0;34m\u001b[0m\u001b[0m\n\u001b[1;32m    602\u001b[0m         \u001b[0;32mfor\u001b[0m \u001b[0mrow_number\u001b[0m\u001b[0;34m,\u001b[0m \u001b[0mrow\u001b[0m \u001b[0;32min\u001b[0m \u001b[0menumerate\u001b[0m\u001b[0;34m(\u001b[0m\u001b[0msheet\u001b[0m\u001b[0;34m.\u001b[0m\u001b[0mrows\u001b[0m\u001b[0;34m)\u001b[0m\u001b[0;34m:\u001b[0m\u001b[0;34m\u001b[0m\u001b[0;34m\u001b[0m\u001b[0m\n\u001b[0;32m--> 603\u001b[0;31m             \u001b[0mconverted_row\u001b[0m \u001b[0;34m=\u001b[0m \u001b[0;34m[\u001b[0m\u001b[0mself\u001b[0m\u001b[0;34m.\u001b[0m\u001b[0m_convert_cell\u001b[0m\u001b[0;34m(\u001b[0m\u001b[0mcell\u001b[0m\u001b[0;34m)\u001b[0m \u001b[0;32mfor\u001b[0m \u001b[0mcell\u001b[0m \u001b[0;32min\u001b[0m \u001b[0mrow\u001b[0m\u001b[0;34m]\u001b[0m\u001b[0;34m\u001b[0m\u001b[0;34m\u001b[0m\u001b[0m\n\u001b[0m\u001b[1;32m    604\u001b[0m             \u001b[0;32mwhile\u001b[0m \u001b[0mconverted_row\u001b[0m \u001b[0;32mand\u001b[0m \u001b[0mconverted_row\u001b[0m\u001b[0;34m[\u001b[0m\u001b[0;34m-\u001b[0m\u001b[0;36m1\u001b[0m\u001b[0;34m]\u001b[0m \u001b[0;34m==\u001b[0m \u001b[0;34m\"\"\u001b[0m\u001b[0;34m:\u001b[0m\u001b[0;34m\u001b[0m\u001b[0;34m\u001b[0m\u001b[0m\n\u001b[1;32m    605\u001b[0m                 \u001b[0;31m# trim trailing empty elements\u001b[0m\u001b[0;34m\u001b[0m\u001b[0;34m\u001b[0m\u001b[0m\n",
            "\u001b[0;32m/usr/local/lib/python3.10/dist-packages/pandas/io/excel/_openpyxl.py\u001b[0m in \u001b[0;36m<listcomp>\u001b[0;34m(.0)\u001b[0m\n\u001b[1;32m    601\u001b[0m         \u001b[0mlast_row_with_data\u001b[0m \u001b[0;34m=\u001b[0m \u001b[0;34m-\u001b[0m\u001b[0;36m1\u001b[0m\u001b[0;34m\u001b[0m\u001b[0;34m\u001b[0m\u001b[0m\n\u001b[1;32m    602\u001b[0m         \u001b[0;32mfor\u001b[0m \u001b[0mrow_number\u001b[0m\u001b[0;34m,\u001b[0m \u001b[0mrow\u001b[0m \u001b[0;32min\u001b[0m \u001b[0menumerate\u001b[0m\u001b[0;34m(\u001b[0m\u001b[0msheet\u001b[0m\u001b[0;34m.\u001b[0m\u001b[0mrows\u001b[0m\u001b[0;34m)\u001b[0m\u001b[0;34m:\u001b[0m\u001b[0;34m\u001b[0m\u001b[0;34m\u001b[0m\u001b[0m\n\u001b[0;32m--> 603\u001b[0;31m             \u001b[0mconverted_row\u001b[0m \u001b[0;34m=\u001b[0m \u001b[0;34m[\u001b[0m\u001b[0mself\u001b[0m\u001b[0;34m.\u001b[0m\u001b[0m_convert_cell\u001b[0m\u001b[0;34m(\u001b[0m\u001b[0mcell\u001b[0m\u001b[0;34m)\u001b[0m \u001b[0;32mfor\u001b[0m \u001b[0mcell\u001b[0m \u001b[0;32min\u001b[0m \u001b[0mrow\u001b[0m\u001b[0;34m]\u001b[0m\u001b[0;34m\u001b[0m\u001b[0;34m\u001b[0m\u001b[0m\n\u001b[0m\u001b[1;32m    604\u001b[0m             \u001b[0;32mwhile\u001b[0m \u001b[0mconverted_row\u001b[0m \u001b[0;32mand\u001b[0m \u001b[0mconverted_row\u001b[0m\u001b[0;34m[\u001b[0m\u001b[0;34m-\u001b[0m\u001b[0;36m1\u001b[0m\u001b[0;34m]\u001b[0m \u001b[0;34m==\u001b[0m \u001b[0;34m\"\"\u001b[0m\u001b[0;34m:\u001b[0m\u001b[0;34m\u001b[0m\u001b[0;34m\u001b[0m\u001b[0m\n\u001b[1;32m    605\u001b[0m                 \u001b[0;31m# trim trailing empty elements\u001b[0m\u001b[0;34m\u001b[0m\u001b[0;34m\u001b[0m\u001b[0m\n",
            "\u001b[0;32m/usr/local/lib/python3.10/dist-packages/pandas/io/excel/_openpyxl.py\u001b[0m in \u001b[0;36m_convert_cell\u001b[0;34m(self, cell)\u001b[0m\n\u001b[1;32m    580\u001b[0m         )\n\u001b[1;32m    581\u001b[0m \u001b[0;34m\u001b[0m\u001b[0m\n\u001b[0;32m--> 582\u001b[0;31m         \u001b[0;32mif\u001b[0m \u001b[0mcell\u001b[0m\u001b[0;34m.\u001b[0m\u001b[0mvalue\u001b[0m \u001b[0;32mis\u001b[0m \u001b[0;32mNone\u001b[0m\u001b[0;34m:\u001b[0m\u001b[0;34m\u001b[0m\u001b[0;34m\u001b[0m\u001b[0m\n\u001b[0m\u001b[1;32m    583\u001b[0m             \u001b[0;32mreturn\u001b[0m \u001b[0;34m\"\"\u001b[0m  \u001b[0;31m# compat with xlrd\u001b[0m\u001b[0;34m\u001b[0m\u001b[0;34m\u001b[0m\u001b[0m\n\u001b[1;32m    584\u001b[0m         \u001b[0;32melif\u001b[0m \u001b[0mcell\u001b[0m\u001b[0;34m.\u001b[0m\u001b[0mdata_type\u001b[0m \u001b[0;34m==\u001b[0m \u001b[0mTYPE_ERROR\u001b[0m\u001b[0;34m:\u001b[0m\u001b[0;34m\u001b[0m\u001b[0;34m\u001b[0m\u001b[0m\n",
            "\u001b[0;32m/usr/local/lib/python3.10/dist-packages/openpyxl/cell/read_only.py\u001b[0m in \u001b[0;36mvalue\u001b[0;34m(self)\u001b[0m\n\u001b[1;32m    106\u001b[0m         \u001b[0;32mreturn\u001b[0m \u001b[0mself\u001b[0m\u001b[0;34m.\u001b[0m\u001b[0m_value\u001b[0m\u001b[0;34m\u001b[0m\u001b[0;34m\u001b[0m\u001b[0m\n\u001b[1;32m    107\u001b[0m \u001b[0;34m\u001b[0m\u001b[0m\n\u001b[0;32m--> 108\u001b[0;31m     \u001b[0;34m@\u001b[0m\u001b[0mproperty\u001b[0m\u001b[0;34m\u001b[0m\u001b[0;34m\u001b[0m\u001b[0m\n\u001b[0m\u001b[1;32m    109\u001b[0m     \u001b[0;32mdef\u001b[0m \u001b[0mvalue\u001b[0m\u001b[0;34m(\u001b[0m\u001b[0mself\u001b[0m\u001b[0;34m)\u001b[0m\u001b[0;34m:\u001b[0m\u001b[0;34m\u001b[0m\u001b[0;34m\u001b[0m\u001b[0m\n\u001b[1;32m    110\u001b[0m         \u001b[0;32mreturn\u001b[0m \u001b[0mself\u001b[0m\u001b[0;34m.\u001b[0m\u001b[0m_value\u001b[0m\u001b[0;34m\u001b[0m\u001b[0;34m\u001b[0m\u001b[0m\n",
            "\u001b[0;31mKeyboardInterrupt\u001b[0m: "
          ]
        }
      ]
    },
    {
      "cell_type": "code",
      "source": [
        "torch.save(test_points,\"og_test_points.pt\")"
      ],
      "metadata": {
        "id": "HdnAg-SWwj_8"
      },
      "execution_count": null,
      "outputs": []
    },
    {
      "cell_type": "code",
      "source": [
        "\n",
        "preds = model(test_points.unsqueeze(1))\n",
        "preds  = torch.argmax(preds ,axis=1)\n",
        "preds = preds.numpy()\n",
        "\n",
        "\n",
        "\n",
        "dictt = {0: 'Tiger',\n",
        "    1: 'Snake',\n",
        "    2: 'Wolf',\n",
        "    3: 'Bear',\n",
        "    4: 'Rabbit',\n",
        "    5: 'Monkey',\n",
        "    6: 'Eagle',\n",
        "    7: 'Dolphin',\n",
        "    8: 'Koala'}\n",
        "\n",
        "arr1  = [ dictt[i]  for i in preds]\n",
        "arr1"
      ],
      "metadata": {
        "colab": {
          "base_uri": "https://localhost:8080/"
        },
        "id": "kXrFU5FEnNS7",
        "outputId": "9fa7fb76-2514-4b7b-8c87-988e9ba8c457"
      },
      "execution_count": 255,
      "outputs": [
        {
          "output_type": "execute_result",
          "data": {
            "text/plain": [
              "['Rabbit',\n",
              " 'Dolphin',\n",
              " 'Rabbit',\n",
              " 'Rabbit',\n",
              " 'Dolphin',\n",
              " 'Bear',\n",
              " 'Rabbit',\n",
              " 'Rabbit',\n",
              " 'Bear',\n",
              " 'Bear',\n",
              " 'Tiger',\n",
              " 'Eagle',\n",
              " 'Rabbit',\n",
              " 'Rabbit',\n",
              " 'Monkey',\n",
              " 'Eagle',\n",
              " 'Snake',\n",
              " 'Rabbit',\n",
              " 'Dolphin',\n",
              " 'Dolphin',\n",
              " 'Rabbit',\n",
              " 'Koala',\n",
              " 'Eagle',\n",
              " 'Snake',\n",
              " 'Bear',\n",
              " 'Snake',\n",
              " 'Dolphin',\n",
              " 'Snake',\n",
              " 'Tiger',\n",
              " 'Bear',\n",
              " 'Rabbit',\n",
              " 'Rabbit',\n",
              " 'Eagle',\n",
              " 'Rabbit',\n",
              " 'Dolphin',\n",
              " 'Rabbit',\n",
              " 'Rabbit',\n",
              " 'Bear',\n",
              " 'Bear',\n",
              " 'Eagle',\n",
              " 'Dolphin',\n",
              " 'Bear',\n",
              " 'Monkey',\n",
              " 'Tiger',\n",
              " 'Dolphin',\n",
              " 'Rabbit',\n",
              " 'Monkey',\n",
              " 'Wolf',\n",
              " 'Bear',\n",
              " 'Tiger',\n",
              " 'Snake',\n",
              " 'Rabbit',\n",
              " 'Koala',\n",
              " 'Dolphin',\n",
              " 'Eagle',\n",
              " 'Rabbit',\n",
              " 'Bear',\n",
              " 'Koala',\n",
              " 'Bear',\n",
              " 'Snake',\n",
              " 'Bear',\n",
              " 'Bear',\n",
              " 'Tiger',\n",
              " 'Rabbit',\n",
              " 'Koala',\n",
              " 'Bear',\n",
              " 'Bear',\n",
              " 'Rabbit',\n",
              " 'Rabbit',\n",
              " 'Tiger',\n",
              " 'Snake',\n",
              " 'Monkey',\n",
              " 'Tiger',\n",
              " 'Koala',\n",
              " 'Eagle',\n",
              " 'Tiger',\n",
              " 'Koala',\n",
              " 'Tiger',\n",
              " 'Koala',\n",
              " 'Tiger',\n",
              " 'Koala',\n",
              " 'Koala',\n",
              " 'Koala',\n",
              " 'Eagle',\n",
              " 'Rabbit',\n",
              " 'Dolphin',\n",
              " 'Eagle',\n",
              " 'Tiger',\n",
              " 'Eagle',\n",
              " 'Monkey',\n",
              " 'Rabbit',\n",
              " 'Tiger',\n",
              " 'Monkey',\n",
              " 'Dolphin',\n",
              " 'Rabbit',\n",
              " 'Snake',\n",
              " 'Rabbit',\n",
              " 'Koala',\n",
              " 'Bear',\n",
              " 'Rabbit',\n",
              " 'Snake',\n",
              " 'Snake',\n",
              " 'Dolphin',\n",
              " 'Bear',\n",
              " 'Monkey',\n",
              " 'Dolphin',\n",
              " 'Rabbit',\n",
              " 'Koala',\n",
              " 'Koala',\n",
              " 'Tiger',\n",
              " 'Eagle',\n",
              " 'Eagle',\n",
              " 'Rabbit',\n",
              " 'Koala',\n",
              " 'Bear',\n",
              " 'Koala',\n",
              " 'Eagle',\n",
              " 'Snake',\n",
              " 'Koala',\n",
              " 'Tiger',\n",
              " 'Bear',\n",
              " 'Koala',\n",
              " 'Dolphin',\n",
              " 'Rabbit',\n",
              " 'Rabbit',\n",
              " 'Tiger',\n",
              " 'Snake',\n",
              " 'Koala',\n",
              " 'Eagle',\n",
              " 'Snake',\n",
              " 'Koala',\n",
              " 'Bear',\n",
              " 'Dolphin',\n",
              " 'Dolphin',\n",
              " 'Monkey',\n",
              " 'Eagle',\n",
              " 'Tiger',\n",
              " 'Tiger',\n",
              " 'Snake',\n",
              " 'Koala',\n",
              " 'Tiger',\n",
              " 'Snake',\n",
              " 'Koala',\n",
              " 'Dolphin',\n",
              " 'Rabbit',\n",
              " 'Koala',\n",
              " 'Snake',\n",
              " 'Rabbit',\n",
              " 'Koala',\n",
              " 'Rabbit',\n",
              " 'Bear',\n",
              " 'Snake',\n",
              " 'Rabbit',\n",
              " 'Eagle',\n",
              " 'Eagle',\n",
              " 'Monkey',\n",
              " 'Rabbit',\n",
              " 'Rabbit',\n",
              " 'Bear',\n",
              " 'Bear',\n",
              " 'Rabbit',\n",
              " 'Snake',\n",
              " 'Dolphin',\n",
              " 'Bear',\n",
              " 'Bear',\n",
              " 'Tiger',\n",
              " 'Tiger',\n",
              " 'Monkey',\n",
              " 'Eagle',\n",
              " 'Eagle',\n",
              " 'Bear',\n",
              " 'Koala',\n",
              " 'Snake',\n",
              " 'Rabbit',\n",
              " 'Rabbit',\n",
              " 'Snake',\n",
              " 'Snake',\n",
              " 'Bear',\n",
              " 'Snake',\n",
              " 'Monkey',\n",
              " 'Rabbit',\n",
              " 'Bear',\n",
              " 'Eagle',\n",
              " 'Wolf',\n",
              " 'Rabbit',\n",
              " 'Tiger',\n",
              " 'Snake',\n",
              " 'Koala',\n",
              " 'Rabbit',\n",
              " 'Koala',\n",
              " 'Rabbit',\n",
              " 'Snake',\n",
              " 'Dolphin',\n",
              " 'Eagle',\n",
              " 'Tiger',\n",
              " 'Rabbit',\n",
              " 'Tiger',\n",
              " 'Snake',\n",
              " 'Bear',\n",
              " 'Rabbit',\n",
              " 'Koala',\n",
              " 'Eagle',\n",
              " 'Rabbit',\n",
              " 'Eagle',\n",
              " 'Koala',\n",
              " 'Tiger',\n",
              " 'Bear',\n",
              " 'Rabbit',\n",
              " 'Monkey',\n",
              " 'Eagle',\n",
              " 'Bear',\n",
              " 'Rabbit',\n",
              " 'Rabbit',\n",
              " 'Snake',\n",
              " 'Rabbit',\n",
              " 'Rabbit',\n",
              " 'Rabbit',\n",
              " 'Eagle',\n",
              " 'Rabbit',\n",
              " 'Rabbit',\n",
              " 'Bear',\n",
              " 'Tiger',\n",
              " 'Eagle',\n",
              " 'Monkey',\n",
              " 'Bear',\n",
              " 'Bear',\n",
              " 'Bear',\n",
              " 'Koala',\n",
              " 'Bear',\n",
              " 'Monkey',\n",
              " 'Rabbit',\n",
              " 'Rabbit',\n",
              " 'Koala',\n",
              " 'Dolphin',\n",
              " 'Wolf',\n",
              " 'Bear',\n",
              " 'Bear',\n",
              " 'Dolphin',\n",
              " 'Snake',\n",
              " 'Tiger',\n",
              " 'Bear',\n",
              " 'Rabbit',\n",
              " 'Bear',\n",
              " 'Rabbit',\n",
              " 'Eagle',\n",
              " 'Snake',\n",
              " 'Bear',\n",
              " 'Tiger',\n",
              " 'Bear',\n",
              " 'Rabbit',\n",
              " 'Rabbit',\n",
              " 'Tiger',\n",
              " 'Dolphin',\n",
              " 'Dolphin',\n",
              " 'Eagle',\n",
              " 'Koala',\n",
              " 'Eagle',\n",
              " 'Eagle',\n",
              " 'Rabbit',\n",
              " 'Tiger',\n",
              " 'Eagle',\n",
              " 'Snake',\n",
              " 'Rabbit',\n",
              " 'Snake',\n",
              " 'Snake',\n",
              " 'Bear',\n",
              " 'Eagle',\n",
              " 'Rabbit',\n",
              " 'Rabbit',\n",
              " 'Rabbit',\n",
              " 'Tiger']"
            ]
          },
          "metadata": {},
          "execution_count": 255
        }
      ]
    },
    {
      "cell_type": "markdown",
      "source": [
        "Submission Labels"
      ],
      "metadata": {
        "id": "_CkXHxBosVXY"
      }
    },
    {
      "cell_type": "code",
      "source": [
        "test_point.shape"
      ],
      "metadata": {
        "colab": {
          "base_uri": "https://localhost:8080/"
        },
        "id": "F2IOWaFhmWvQ",
        "outputId": "b6d3be80-c722-40b7-805e-afb25e1fe015"
      },
      "execution_count": 256,
      "outputs": [
        {
          "output_type": "execute_result",
          "data": {
            "text/plain": [
              "torch.Size([271, 750, 32])"
            ]
          },
          "metadata": {},
          "execution_count": 256
        }
      ]
    }
  ]
}